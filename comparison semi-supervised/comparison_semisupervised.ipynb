{
 "cells": [
  {
   "cell_type": "code",
   "execution_count": 1,
   "metadata": {},
   "outputs": [
    {
     "name": "stderr",
     "output_type": "stream",
     "text": [
      "/Users/chiqun/miniconda/lib/python3.6/importlib/_bootstrap.py:205: RuntimeWarning: compiletime version 3.5 of module 'tensorflow.python.framework.fast_tensor_util' does not match runtime version 3.6\n",
      "  return f(*args, **kwds)\n",
      "/Users/chiqun/miniconda/lib/python3.6/site-packages/h5py/__init__.py:36: FutureWarning: Conversion of the second argument of issubdtype from `float` to `np.floating` is deprecated. In future, it will be treated as `np.float64 == np.dtype(float).type`.\n",
      "  from ._conv import register_converters as _register_converters\n"
     ]
    }
   ],
   "source": [
    "import tensorflow as tf\n",
    "import numpy as np\n",
    "\n",
    "%matplotlib inline\n",
    "from matplotlib import pyplot as plt"
   ]
  },
  {
   "cell_type": "code",
   "execution_count": 24,
   "metadata": {},
   "outputs": [],
   "source": [
    "INPUT_DIM = 1\n",
    "HIDDEN_LAYER_WIDTH = 5\n",
    "OUTPUT_DIM = 1\n",
    "CONFIDENCE = 1\n",
    "EPOCHS = 100000\n",
    "DISPLAY_INTERVAL = 5000\n",
    "LEARNING_RATE = 0.0001"
   ]
  },
  {
   "cell_type": "code",
   "execution_count": 3,
   "metadata": {},
   "outputs": [
    {
     "data": {
      "text/plain": [
       "<matplotlib.collections.PathCollection at 0x115f0fcc0>"
      ]
     },
     "execution_count": 3,
     "metadata": {},
     "output_type": "execute_result"
    },
    {
     "data": {
      "image/png": "[encoded data removed]",
      "text/plain": [
       "<matplotlib.figure.Figure at 0x10704ceb8>"
      ]
     },
     "metadata": {},
     "output_type": "display_data"
    }
   ],
   "source": [
    "x_train_labelled = np.random.randn(1000,INPUT_DIM)\n",
    "x_train_comp1 = np.random.randn(2000,INPUT_DIM)\n",
    "x_train_comp2 = np.random.randn(2000,INPUT_DIM)\n",
    "y_train_labelled = 2*x_train_labelled\n",
    "y_train_comp = 2*x_train_comp1 - (2*x_train_comp2)\n",
    "y_train_comp[y_train_comp<=0] = 0\n",
    "y_train_comp[y_train_comp>0] = 1\n",
    "\n",
    "plt.scatter(x_train_labelled, y_train_labelled)"
   ]
  },
  {
   "cell_type": "code",
   "execution_count": 4,
   "metadata": {},
   "outputs": [],
   "source": [
    "initializer = tf.keras.initializers.glorot_uniform()"
   ]
  },
  {
   "cell_type": "code",
   "execution_count": 5,
   "metadata": {},
   "outputs": [],
   "source": [
    "W1 = tf.Variable(initializer([INPUT_DIM, HIDDEN_LAYER_WIDTH]))"
   ]
  },
  {
   "cell_type": "code",
   "execution_count": 6,
   "metadata": {},
   "outputs": [],
   "source": [
    "b1 = tf.Variable(tf.zeros([HIDDEN_LAYER_WIDTH]))"
   ]
  },
  {
   "cell_type": "code",
   "execution_count": 7,
   "metadata": {},
   "outputs": [],
   "source": [
    "W2 = tf.Variable(initializer([HIDDEN_LAYER_WIDTH, OUTPUT_DIM]))\n",
    "b2 = tf.Variable(tf.zeros([OUTPUT_DIM]))"
   ]
  },
  {
   "cell_type": "code",
   "execution_count": 8,
   "metadata": {},
   "outputs": [],
   "source": [
    "X_labelled = tf.placeholder(tf.float32, [None, INPUT_DIM])\n",
    "Y_labelled = tf.placeholder(tf.float32)\n",
    "X_comp1 = tf.placeholder(tf.float32, [None, INPUT_DIM])\n",
    "X_comp2 = tf.placeholder(tf.float32, [None, INPUT_DIM])\n",
    "Y_comp = tf.placeholder(tf.float32)"
   ]
  },
  {
   "cell_type": "code",
   "execution_count": 9,
   "metadata": {},
   "outputs": [],
   "source": [
    "hidden_layer_labelled = tf.add(tf.matmul(X_labelled, W1), b1)\n",
    "hidden_layer_labelled = tf.nn.relu(hidden_layer_labelled)\n",
    "output_layer_labelled = tf.add(tf.matmul(hidden_layer_labelled, W2), b2)\n",
    "# output_layer_labelled = tf.nn.relu(output_layer_labelled)"
   ]
  },
  {
   "cell_type": "code",
   "execution_count": 10,
   "metadata": {},
   "outputs": [],
   "source": [
    "loss_labelled = tf.reduce_mean(tf.squared_difference(output_layer_labelled, Y_labelled), name='mse_labelled')"
   ]
  },
  {
   "cell_type": "code",
   "execution_count": 11,
   "metadata": {},
   "outputs": [],
   "source": [
    "hidden_layer_comp1 = tf.add(tf.matmul(X_comp1, W1), b1)\n",
    "hidden_layer_comp1 = tf.nn.relu(hidden_layer_comp1)\n",
    "output_layer_comp1 = tf.add(tf.matmul(hidden_layer_comp1, W2), b2)\n",
    "# output_layer_comp1 = tf.nn.relu(output_layer_comp1)"
   ]
  },
  {
   "cell_type": "code",
   "execution_count": 12,
   "metadata": {},
   "outputs": [],
   "source": [
    "hidden_layer_comp2 = tf.add(tf.matmul(X_comp2, W1), b1)\n",
    "hidden_layer_comp2 = tf.nn.relu(hidden_layer_comp2)\n",
    "output_layer_comp2 = tf.add(tf.matmul(hidden_layer_comp2, W2), b2)\n",
    "# output_layer_comp2 = tf.nn.relu(output_layer_comp2)"
   ]
  },
  {
   "cell_type": "code",
   "execution_count": 13,
   "metadata": {},
   "outputs": [],
   "source": [
    "output_layer_subtract = tf.subtract(output_layer_comp1, output_layer_comp2)"
   ]
  },
  {
   "cell_type": "code",
   "execution_count": 14,
   "metadata": {},
   "outputs": [],
   "source": [
    "output_comp = tf.cast(tf.greater(output_layer_subtract, 0), tf.float32)"
   ]
  },
  {
   "cell_type": "code",
   "execution_count": 15,
   "metadata": {},
   "outputs": [],
   "source": [
    "loss_comp = tf.reduce_mean(tf.squared_difference(output_comp, Y_comp), name='mse_comp')"
   ]
  },
  {
   "cell_type": "code",
   "execution_count": 16,
   "metadata": {},
   "outputs": [],
   "source": [
    "loss = tf.add(loss_labelled, CONFIDENCE * loss_comp)"
   ]
  },
  {
   "cell_type": "code",
   "execution_count": 17,
   "metadata": {},
   "outputs": [],
   "source": [
    "optimizer = tf.train.GradientDescentOptimizer(LEARNING_RATE).minimize(loss)"
   ]
  },
  {
   "cell_type": "code",
   "execution_count": 18,
   "metadata": {},
   "outputs": [],
   "source": [
    "init = tf.global_variables_initializer()"
   ]
  },
  {
   "cell_type": "code",
   "execution_count": 25,
   "metadata": {},
   "outputs": [
    {
     "name": "stdout",
     "output_type": "stream",
     "text": [
      "Epoch: 5000 cost= 0.072757766\n",
      "Epoch: 10000 cost= 0.032413028\n",
      "Epoch: 15000 cost= 0.024592193\n",
      "Epoch: 20000 cost= 0.018546026\n",
      "Epoch: 25000 cost= 0.013713369\n",
      "Epoch: 30000 cost= 0.009850517\n",
      "Epoch: 35000 cost= 0.006889305\n",
      "Epoch: 40000 cost= 0.004687286\n",
      "Epoch: 45000 cost= 0.003122829\n",
      "Epoch: 50000 cost= 0.002040026\n",
      "Epoch: 55000 cost= 0.001329134\n",
      "Epoch: 60000 cost= 0.000873383\n",
      "Epoch: 65000 cost= 0.000584495\n",
      "Epoch: 70000 cost= 0.000402369\n",
      "Epoch: 75000 cost= 0.000289719\n",
      "Epoch: 80000 cost= 0.000217995\n",
      "Epoch: 85000 cost= 0.000172005\n",
      "Epoch: 90000 cost= 0.000141630\n",
      "Epoch: 95000 cost= 0.000122473\n",
      "Epoch: 100000 cost= 0.000108709\n"
     ]
    }
   ],
   "source": [
    "with tf.Session() as sess:\n",
    "    sess.run(init)\n",
    "\n",
    "    # Fit all training data\n",
    "    for epoch in range(EPOCHS):\n",
    "        sess.run(optimizer, feed_dict={X_labelled: x_train_labelled, \n",
    "                                       Y_labelled: y_train_labelled,\n",
    "                                       X_comp1: x_train_comp1,\n",
    "                                       X_comp2: x_train_comp2,\n",
    "                                       Y_comp: y_train_comp})\n",
    "\n",
    "        # Display logs per epoch step\n",
    "        if (epoch+1) % DISPLAY_INTERVAL == 0:\n",
    "            c = sess.run(loss, feed_dict={X_labelled: x_train_labelled, \n",
    "                                          Y_labelled: y_train_labelled,\n",
    "                                          X_comp1: x_train_comp1,\n",
    "                                          X_comp2: x_train_comp2,\n",
    "                                          Y_comp: y_train_comp})\n",
    "            print(\"Epoch:\", '%04d' % (epoch+1), \"cost=\", \"{:.9f}\".format(c))\n",
    "    y_pred = sess.run(output_layer_labelled, feed_dict={X_labelled: x_train_labelled})"
   ]
  },
  {
   "cell_type": "code",
   "execution_count": 26,
   "metadata": {},
   "outputs": [
    {
     "data": {
      "text/plain": [
       "<matplotlib.collections.PathCollection at 0x11f37b978>"
      ]
     },
     "execution_count": 26,
     "metadata": {},
     "output_type": "execute_result"
    },
    {
     "data": {
      "image/png": "[encoded data removed]",
      "text/plain": [
       "<matplotlib.figure.Figure at 0x11f159978>"
      ]
     },
     "metadata": {},
     "output_type": "display_data"
    }
   ],
   "source": [
    "plt.scatter(x_train_labelled, y_pred)"
   ]
  },
  {
   "cell_type": "code",
   "execution_count": null,
   "metadata": {},
   "outputs": [],
   "source": []
  }
 ],
 "metadata": {
  "kernelspec": {
   "display_name": "Python 3",
   "language": "python",
   "name": "python3"
  },
  "language_info": {
   "codemirror_mode": {
    "name": "ipython",
    "version": 3
   },
   "file_extension": ".py",
   "mimetype": "text/x-python",
   "name": "python",
   "nbconvert_exporter": "python",
   "pygments_lexer": "ipython3",
   "version": "3.6.1"
  }
 },
 "nbformat": 4,
 "nbformat_minor": 2
}
